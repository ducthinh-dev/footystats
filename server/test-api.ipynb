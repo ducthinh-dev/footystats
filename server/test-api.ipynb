{
 "cells": [
  {
   "cell_type": "code",
   "execution_count": 15,
   "metadata": {},
   "outputs": [],
   "source": [
    "from api import static, gameweek, fixtures\n",
    "\n",
    "import pandas as pd\n",
    "import numpy as np\n",
    "import sqlalchemy as sa"
   ]
  },
  {
   "cell_type": "code",
   "execution_count": 3,
   "metadata": {},
   "outputs": [],
   "source": [
    "from setup import setup\n",
    "engine = setup()"
   ]
  },
  {
   "cell_type": "code",
   "execution_count": 4,
   "metadata": {},
   "outputs": [],
   "source": [
    "fix = fixtures().fixtures\n",
    "static_info = static()\n",
    "teams = static_info.get_teams_info()\n",
    "events = static_info.get_events()"
   ]
  },
  {
   "cell_type": "code",
   "execution_count": 9,
   "metadata": {},
   "outputs": [
    {
     "data": {
      "text/plain": [
       "0                                                     []\n",
       "1      [{'identifier': 'goals_scored', 'a': [{'value'...\n",
       "2      [{'identifier': 'goals_scored', 'a': [{'value'...\n",
       "3      [{'identifier': 'goals_scored', 'a': [{'value'...\n",
       "4      [{'identifier': 'goals_scored', 'a': [{'value'...\n",
       "                             ...                        \n",
       "375                                                   []\n",
       "376                                                   []\n",
       "377                                                   []\n",
       "378                                                   []\n",
       "379                                                   []\n",
       "Name: stats, Length: 380, dtype: object"
      ]
     },
     "execution_count": 9,
     "metadata": {},
     "output_type": "execute_result"
    }
   ],
   "source": [
    "fix['stats'].astype(str)"
   ]
  },
  {
   "cell_type": "code",
   "execution_count": 19,
   "metadata": {},
   "outputs": [],
   "source": [
    "# with engine.connect() as conn:\n",
    "#     try:\n",
    "#         fix['stats'] = fix['stats'].astype(str)\n",
    "#         fix.to_sql('fixtures', con=conn,index=False, if_exists='replace')\n",
    "#         conn.commit()\n",
    "#     except Exception as e:\n",
    "#         conn.rollback()\n",
    "#         raise e\n",
    "#     finally:\n",
    "#         conn.close()"
   ]
  },
  {
   "cell_type": "code",
   "execution_count": 17,
   "metadata": {},
   "outputs": [
    {
     "name": "stdout",
     "output_type": "stream",
     "text": [
      "Result set: [('3', 0, None, '1', 0, 'Arsenal', 0, 0, 0, 'ARS', 4, None, 0, 0, 1230, 1285, 1250, 1250, 1210, 1320, 1), ('7', 0, None, '2', 0, 'Aston Villa', 0, 0, 0, 'AVL', 3, None, 0, 0, 1115, 1175, 1130, 1190, 1100, 1160, 2), ('91', 0, None, '3', 0, 'Bournemouth', 0, 0, 0, 'BOU', 3, None, 0, 0, 1060, 1095, 1050, 1100, 1060, 1090, 127), ('94', 0, None, '4', 0, 'Brentford', 0, 0, 0, 'BRE', 3, None, 0, 0, 1125, 1205, 1120, 1220, 1130, 1190, 130), ('36', 0, None, '5', 0, 'Brighton', 0, 0, 0, 'BHA', 3, None, 0, 0, 1165, 1210, 1120, 1200, 1210, 1240, 131), ('90', 0, None, '6', 0, 'Burnley', 0, 0, 0, 'BUR', 2, None, 0, 0, 1060, 1080, 1060, 1080, 1060, 1080, 43), ('8', 0, None, '7', 0, 'Chelsea', 0, 0, 0, 'CHE', 3, None, 0, 0, 1115, 1160, 1130, 1210, 1100, 1110, 4), ('31', 0, None, '8', 0, 'Crystal Palace', 0, 0, 0, 'CRY', 3, None, 0, 0, 1100, 1100, 1140, 1170, 1080, 1085, 6), ('11', 0, None, '9', 0, 'Everton', 0, 0, 0, 'EVE', 3, None, 0, 0, 1075, 1100, 1070, 1120, 1080, 1080, 7), ('54', 0, None, '10', 0, 'Fulham', 0, 0, 0, 'FUL', 3, None, 0, 0, 1095, 1100, 1090, 1090, 1100, 1140, 34), ('14', 0, None, '11', 0, 'Liverpool', 0, 0, 0, 'LIV', 4, None, 0, 0, 1220, 1285, 1170, 1270, 1260, 1300, 10), ('102', 0, None, '12', 0, 'Luton', 0, 0, 0, 'LUT', 2, None, 0, 0, 1045, 1050, 1050, 1050, 1040, 1050, 163), ('43', 0, None, '13', 0, 'Man City', 0, 0, 0, 'MCI', 5, None, 0, 0, 1350, 1355, 1320, 1340, 1320, 1370, 11), ('1', 0, None, '14', 0, 'Man Utd', 0, 0, 0, 'MUN', 4, None, 0, 0, 1145, 1275, 1150, 1310, 1140, 1240, 12), ('4', 0, None, '15', 0, 'Newcastle', 0, 0, 0, 'NEW', 4, None, 0, 0, 1220, 1280, 1250, 1310, 1190, 1250, 23), ('17', 0, None, '16', 0, \"Nott'm Forest\", 0, 0, 0, 'NFO', 3, None, 0, 0, 1050, 1100, 1050, 1110, 1050, 1120, 15), ('49', 0, None, '17', 0, 'Sheffield Utd', 0, 0, 0, 'SHU', 2, None, 0, 0, 1045, 1070, 1050, 1060, 1040, 1080, 18), ('6', 0, None, '18', 0, 'Spurs', 0, 0, 0, 'TOT', 3, None, 0, 0, 1130, 1200, 1110, 1200, 1150, 1200, 21), ('21', 0, None, '19', 0, 'West Ham', 0, 0, 0, 'WHU', 3, None, 0, 0, 1095, 1140, 1100, 1150, 1090, 1130, 25), ('39', 0, None, '20', 0, 'Wolves', 0, 0, 0, 'WOL', 3, None, 0, 0, 1065, 1100, 1070, 1160, 1060, 1080, 38)]\n"
     ]
    }
   ],
   "source": [
    "# with engine.connect() as conn:\n",
    "#     try:\n",
    "#         result = conn.execute(sa.text(\"SELECT * FROM teams_info;\"))\n",
    "#         rows = result.fetchall()\n",
    "#         print(\"Result set:\", rows)\n",
    "#         conn.commit()\n",
    "#     except Exception as e:\n",
    "#         conn.rollback()\n",
    "#         raise e\n",
    "#     finally:\n",
    "#         conn.close()"
   ]
  },
  {
   "cell_type": "code",
   "execution_count": null,
   "metadata": {},
   "outputs": [],
   "source": []
  },
  {
   "cell_type": "code",
   "execution_count": null,
   "metadata": {},
   "outputs": [],
   "source": []
  },
  {
   "cell_type": "code",
   "execution_count": null,
   "metadata": {},
   "outputs": [],
   "source": []
  },
  {
   "cell_type": "code",
   "execution_count": null,
   "metadata": {},
   "outputs": [],
   "source": []
  },
  {
   "cell_type": "code",
   "execution_count": null,
   "metadata": {},
   "outputs": [],
   "source": []
  },
  {
   "cell_type": "code",
   "execution_count": null,
   "metadata": {},
   "outputs": [],
   "source": []
  },
  {
   "cell_type": "code",
   "execution_count": null,
   "metadata": {},
   "outputs": [],
   "source": []
  },
  {
   "cell_type": "code",
   "execution_count": null,
   "metadata": {},
   "outputs": [],
   "source": []
  },
  {
   "cell_type": "code",
   "execution_count": null,
   "metadata": {},
   "outputs": [],
   "source": []
  },
  {
   "cell_type": "code",
   "execution_count": null,
   "metadata": {},
   "outputs": [],
   "source": []
  }
 ],
 "metadata": {
  "kernelspec": {
   "display_name": "Python 3",
   "language": "python",
   "name": "python3"
  },
  "language_info": {
   "codemirror_mode": {
    "name": "ipython",
    "version": 3
   },
   "file_extension": ".py",
   "mimetype": "text/x-python",
   "name": "python",
   "nbconvert_exporter": "python",
   "pygments_lexer": "ipython3",
   "version": "3.11.3"
  }
 },
 "nbformat": 4,
 "nbformat_minor": 2
}
