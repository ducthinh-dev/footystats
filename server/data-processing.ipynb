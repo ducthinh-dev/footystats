{
 "cells": [
  {
   "cell_type": "code",
   "execution_count": 1,
   "metadata": {},
   "outputs": [],
   "source": [
    "from api import elements\n",
    "import pandas as pd"
   ]
  },
  {
   "cell_type": "code",
   "execution_count": 2,
   "metadata": {},
   "outputs": [],
   "source": [
    "elements = elements()"
   ]
  },
  {
   "cell_type": "code",
   "execution_count": 5,
   "metadata": {},
   "outputs": [
    {
     "data": {
      "text/plain": [
       "season_name                   object\n",
       "element_code                   int64\n",
       "start_cost                     int64\n",
       "end_cost                       int64\n",
       "total_points                   int64\n",
       "minutes                        int64\n",
       "goals_scored                   int64\n",
       "assists                        int64\n",
       "clean_sheets                   int64\n",
       "goals_conceded                 int64\n",
       "own_goals                      int64\n",
       "penalties_saved                int64\n",
       "penalties_missed               int64\n",
       "yellow_cards                   int64\n",
       "red_cards                      int64\n",
       "saves                          int64\n",
       "bonus                          int64\n",
       "bps                            int64\n",
       "influence                     object\n",
       "creativity                    object\n",
       "threat                        object\n",
       "ict_index                     object\n",
       "starts                         int64\n",
       "expected_goals                object\n",
       "expected_assists              object\n",
       "expected_goal_involvements    object\n",
       "expected_goals_conceded       object\n",
       "dtype: object"
      ]
     },
     "execution_count": 5,
     "metadata": {},
     "output_type": "execute_result"
    }
   ],
   "source": [
    "elements.past_seasons.dtypes"
   ]
  },
  {
   "cell_type": "code",
   "execution_count": null,
   "metadata": {},
   "outputs": [],
   "source": []
  },
  {
   "cell_type": "code",
   "execution_count": null,
   "metadata": {},
   "outputs": [],
   "source": []
  },
  {
   "cell_type": "code",
   "execution_count": null,
   "metadata": {},
   "outputs": [],
   "source": []
  },
  {
   "cell_type": "code",
   "execution_count": null,
   "metadata": {},
   "outputs": [],
   "source": []
  },
  {
   "cell_type": "code",
   "execution_count": null,
   "metadata": {},
   "outputs": [],
   "source": []
  }
 ],
 "metadata": {
  "kernelspec": {
   "display_name": "Python 3",
   "language": "python",
   "name": "python3"
  },
  "language_info": {
   "codemirror_mode": {
    "name": "ipython",
    "version": 3
   },
   "file_extension": ".py",
   "mimetype": "text/x-python",
   "name": "python",
   "nbconvert_exporter": "python",
   "pygments_lexer": "ipython3",
   "version": "3.10.9"
  },
  "orig_nbformat": 4
 },
 "nbformat": 4,
 "nbformat_minor": 2
}
