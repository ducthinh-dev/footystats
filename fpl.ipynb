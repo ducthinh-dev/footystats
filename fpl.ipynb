{
 "cells": [
  {
   "cell_type": "code",
   "execution_count": 1,
   "metadata": {},
   "outputs": [],
   "source": [
    "import requests\n",
    "import json\n",
    "import pandas as pd"
   ]
  },
  {
   "cell_type": "code",
   "execution_count": 2,
   "metadata": {},
   "outputs": [],
   "source": [
    "import numpy as np"
   ]
  },
  {
   "cell_type": "code",
   "execution_count": 3,
   "metadata": {},
   "outputs": [],
   "source": [
    "pd.options.display.max_columns = 999"
   ]
  },
  {
   "cell_type": "code",
   "execution_count": 4,
   "metadata": {},
   "outputs": [],
   "source": [
    "fpl = 'https://fantasy.premierleague.com/api'\n",
    "static_end = '/bootstrap-static/'\n",
    "fixtures_end = '/fixtures/'\n",
    "player_end = '/element-summary/'"
   ]
  },
  {
   "cell_type": "markdown",
   "metadata": {},
   "source": [
    "### static information"
   ]
  },
  {
   "cell_type": "code",
   "execution_count": 5,
   "metadata": {},
   "outputs": [],
   "source": [
    "r = requests.get(fpl+static_end)\n",
    "static = json.loads(r.content)"
   ]
  },
  {
   "cell_type": "code",
   "execution_count": 6,
   "metadata": {},
   "outputs": [],
   "source": [
    "players = pd.DataFrame(static['elements'])"
   ]
  },
  {
   "cell_type": "code",
   "execution_count": 7,
   "metadata": {},
   "outputs": [],
   "source": [
    "events = pd.DataFrame(static['events'])"
   ]
  },
  {
   "cell_type": "code",
   "execution_count": 8,
   "metadata": {},
   "outputs": [],
   "source": [
    "teams = pd.DataFrame(static['teams'])\n",
    "teams['id'] = teams['id'].astype(str)"
   ]
  },
  {
   "cell_type": "markdown",
   "metadata": {},
   "source": [
    "### fixtures"
   ]
  },
  {
   "cell_type": "code",
   "execution_count": 9,
   "metadata": {},
   "outputs": [],
   "source": [
    "r = requests.get(fpl+fixtures_end)\n",
    "fixtures = json.loads(r.content)"
   ]
  },
  {
   "cell_type": "code",
   "execution_count": 10,
   "metadata": {},
   "outputs": [],
   "source": [
    "fixtures_df = pd.DataFrame(fixtures)\n",
    "fixtures_df['event'].fillna(0,inplace=True)\n",
    "fixtures_df['event'] = fixtures_df['event'].astype(str)\n",
    "fixtures_df['team_a'] = fixtures_df['team_a'].astype(str)\n",
    "fixtures_df['team_h'] = fixtures_df['team_h'].astype(str)"
   ]
  },
  {
   "cell_type": "markdown",
   "metadata": {},
   "source": [
    "### player summary"
   ]
  },
  {
   "cell_type": "code",
   "execution_count": 11,
   "metadata": {},
   "outputs": [],
   "source": [
    "player_id = '355/'\n",
    "r = requests.get(fpl+player_end+player_id)\n",
    "player_summary = json.loads(r.content)"
   ]
  },
  {
   "cell_type": "code",
   "execution_count": 12,
   "metadata": {},
   "outputs": [
    {
     "data": {
      "text/plain": [
       "dict_keys(['fixtures', 'history', 'history_past'])"
      ]
     },
     "execution_count": 12,
     "metadata": {},
     "output_type": "execute_result"
    }
   ],
   "source": [
    "player_summary.keys()"
   ]
  },
  {
   "cell_type": "markdown",
   "metadata": {},
   "source": [
    "### gameweek live"
   ]
  },
  {
   "cell_type": "code",
   "execution_count": 13,
   "metadata": {},
   "outputs": [],
   "source": [
    "live_end = '/event/1/live/'\n",
    "r = requests.get(fpl+live_end)\n",
    "gw = json.loads(r.content)"
   ]
  },
  {
   "cell_type": "code",
   "execution_count": 14,
   "metadata": {},
   "outputs": [],
   "source": [
    "id_list = []\n",
    "stat_list = []\n",
    "for player in gw['elements']:\n",
    "    id_list.append(player['id'])\n",
    "    stat_list.append(player['stats'])\n",
    "stats_df = pd.DataFrame(stat_list)\n",
    "stats_df['id'] = id_list"
   ]
  },
  {
   "cell_type": "markdown",
   "metadata": {},
   "source": [
    "### sandbox"
   ]
  },
  {
   "cell_type": "code",
   "execution_count": 15,
   "metadata": {},
   "outputs": [],
   "source": [
    "teams_dict= teams.set_index('id')['short_name'].to_dict()"
   ]
  },
  {
   "cell_type": "code",
   "execution_count": 16,
   "metadata": {},
   "outputs": [],
   "source": [
    "def get_teams_difficulty(gw=None):\n",
    "    if not gw:\n",
    "        gw = events.loc[events['is_current'],['id']].values[0][0]\n",
    "    team_h = fixtures_df.loc[fixtures_df['event'] == gw, ['team_h', 'team_h_difficulty']].values\n",
    "    team_a = fixtures_df.loc[fixtures_df['event'] == gw, ['team_a', 'team_a_difficulty']].values\n",
    "    diff_list = np.concatenate((team_h, team_a))\n",
    "    diff_df = pd.DataFrame(diff_list, columns=['team', 'difficulty'])\n",
    "    diff_df.sort_values(by=['difficulty'],inplace=True)\n",
    "    diff_df.reset_index(inplace=True)\n",
    "    diff_df.drop(columns=['index'], inplace=True)\n",
    "    return diff_df"
   ]
  },
  {
   "cell_type": "code",
   "execution_count": 17,
   "metadata": {},
   "outputs": [
    {
     "data": {
      "text/html": [
       "<div>\n",
       "<style scoped>\n",
       "    .dataframe tbody tr th:only-of-type {\n",
       "        vertical-align: middle;\n",
       "    }\n",
       "\n",
       "    .dataframe tbody tr th {\n",
       "        vertical-align: top;\n",
       "    }\n",
       "\n",
       "    .dataframe thead th {\n",
       "        text-align: right;\n",
       "    }\n",
       "</style>\n",
       "<table border=\"1\" class=\"dataframe\">\n",
       "  <thead>\n",
       "    <tr style=\"text-align: right;\">\n",
       "      <th></th>\n",
       "      <th>team_h</th>\n",
       "      <th>team_h_difficulty</th>\n",
       "      <th>team_a</th>\n",
       "      <th>team_a_difficulty</th>\n",
       "    </tr>\n",
       "  </thead>\n",
       "  <tbody>\n",
       "    <tr>\n",
       "      <th>40</th>\n",
       "      <td>ARS</td>\n",
       "      <td>3</td>\n",
       "      <td>MUN</td>\n",
       "      <td>4</td>\n",
       "    </tr>\n",
       "    <tr>\n",
       "      <th>47</th>\n",
       "      <td>EVE</td>\n",
       "      <td>4</td>\n",
       "      <td>ARS</td>\n",
       "      <td>2</td>\n",
       "    </tr>\n",
       "    <tr>\n",
       "      <th>57</th>\n",
       "      <td>ARS</td>\n",
       "      <td>3</td>\n",
       "      <td>TOT</td>\n",
       "      <td>4</td>\n",
       "    </tr>\n",
       "  </tbody>\n",
       "</table>\n",
       "</div>"
      ],
      "text/plain": [
       "   team_h  team_h_difficulty team_a  team_a_difficulty\n",
       "40    ARS                  3    MUN                  4\n",
       "47    EVE                  4    ARS                  2\n",
       "57    ARS                  3    TOT                  4"
      ]
     },
     "execution_count": 17,
     "metadata": {},
     "output_type": "execute_result"
    }
   ],
   "source": [
    "fixtures_df.loc[((fixtures_df['team_a'] == '1') |\n",
    "                (fixtures_df['team_h'] == '1')) &\n",
    "                (fixtures_df['finished'] == False),\n",
    "                ['team_h','team_h_difficulty','team_a','team_a_difficulty']].head(3).replace(teams_dict)"
   ]
  },
  {
   "cell_type": "code",
   "execution_count": 18,
   "metadata": {},
   "outputs": [],
   "source": [
    "def get_gameweek(event=1):\n",
    "    url = f'https://fantasy.premierleague.com/api/event/{event}/live/'\n",
    "    r = requests.get(url)\n",
    "    raw = json.loads(r.content)\n",
    "    id_list = []\n",
    "    stat_list = []\n",
    "    for player in raw['elements']:\n",
    "        id_list.append(player['id'])\n",
    "        stat_list.append(player['stats'])\n",
    "    player_stats = pd.DataFrame(stat_list)\n",
    "    player_stats['id'] = id_list\n",
    "    player_stats['id'] = player_stats['id'].astype(str)\n",
    "    return player_stats"
   ]
  },
  {
   "cell_type": "code",
   "execution_count": 19,
   "metadata": {},
   "outputs": [],
   "source": [
    "finished_events= events.loc[events['finished']]['id'].tolist()"
   ]
  },
  {
   "cell_type": "code",
   "execution_count": 20,
   "metadata": {},
   "outputs": [],
   "source": [
    "for event in finished_events:\n",
    "    this_event = get_gameweek(event)\n",
    "    "
   ]
  },
  {
   "cell_type": "code",
   "execution_count": 25,
   "metadata": {},
   "outputs": [
    {
     "data": {
      "text/html": [
       "<div>\n",
       "<style scoped>\n",
       "    .dataframe tbody tr th:only-of-type {\n",
       "        vertical-align: middle;\n",
       "    }\n",
       "\n",
       "    .dataframe tbody tr th {\n",
       "        vertical-align: top;\n",
       "    }\n",
       "\n",
       "    .dataframe thead th {\n",
       "        text-align: right;\n",
       "    }\n",
       "</style>\n",
       "<table border=\"1\" class=\"dataframe\">\n",
       "  <thead>\n",
       "    <tr style=\"text-align: right;\">\n",
       "      <th></th>\n",
       "      <th>code</th>\n",
       "      <th>event</th>\n",
       "      <th>finished</th>\n",
       "      <th>finished_provisional</th>\n",
       "      <th>id</th>\n",
       "      <th>kickoff_time</th>\n",
       "      <th>minutes</th>\n",
       "      <th>provisional_start_time</th>\n",
       "      <th>started</th>\n",
       "      <th>team_a</th>\n",
       "      <th>team_a_score</th>\n",
       "      <th>team_h</th>\n",
       "      <th>team_h_score</th>\n",
       "      <th>stats</th>\n",
       "      <th>team_h_difficulty</th>\n",
       "      <th>team_a_difficulty</th>\n",
       "      <th>pulse_id</th>\n",
       "    </tr>\n",
       "  </thead>\n",
       "  <tbody>\n",
       "    <tr>\n",
       "      <th>0</th>\n",
       "      <td>2367552</td>\n",
       "      <td>0</td>\n",
       "      <td>False</td>\n",
       "      <td>False</td>\n",
       "      <td>15</td>\n",
       "      <td>None</td>\n",
       "      <td>0</td>\n",
       "      <td>False</td>\n",
       "      <td>None</td>\n",
       "      <td>6</td>\n",
       "      <td>NaN</td>\n",
       "      <td>12</td>\n",
       "      <td>NaN</td>\n",
       "      <td>[]</td>\n",
       "      <td>2</td>\n",
       "      <td>2</td>\n",
       "      <td>93335</td>\n",
       "    </tr>\n",
       "    <tr>\n",
       "      <th>1</th>\n",
       "      <td>2367713</td>\n",
       "      <td>0</td>\n",
       "      <td>False</td>\n",
       "      <td>False</td>\n",
       "      <td>176</td>\n",
       "      <td>None</td>\n",
       "      <td>0</td>\n",
       "      <td>False</td>\n",
       "      <td>None</td>\n",
       "      <td>4</td>\n",
       "      <td>NaN</td>\n",
       "      <td>13</td>\n",
       "      <td>NaN</td>\n",
       "      <td>[]</td>\n",
       "      <td>3</td>\n",
       "      <td>5</td>\n",
       "      <td>93496</td>\n",
       "    </tr>\n",
       "    <tr>\n",
       "      <th>2</th>\n",
       "      <td>2367538</td>\n",
       "      <td>1</td>\n",
       "      <td>True</td>\n",
       "      <td>True</td>\n",
       "      <td>1</td>\n",
       "      <td>2023-08-11T19:00:00Z</td>\n",
       "      <td>90</td>\n",
       "      <td>False</td>\n",
       "      <td>True</td>\n",
       "      <td>13</td>\n",
       "      <td>3.0</td>\n",
       "      <td>6</td>\n",
       "      <td>0.0</td>\n",
       "      <td>[{'identifier': 'goals_scored', 'a': [{'value'...</td>\n",
       "      <td>5</td>\n",
       "      <td>2</td>\n",
       "      <td>93321</td>\n",
       "    </tr>\n",
       "    <tr>\n",
       "      <th>3</th>\n",
       "      <td>2367540</td>\n",
       "      <td>1</td>\n",
       "      <td>True</td>\n",
       "      <td>True</td>\n",
       "      <td>2</td>\n",
       "      <td>2023-08-12T12:00:00Z</td>\n",
       "      <td>90</td>\n",
       "      <td>False</td>\n",
       "      <td>True</td>\n",
       "      <td>16</td>\n",
       "      <td>1.0</td>\n",
       "      <td>1</td>\n",
       "      <td>2.0</td>\n",
       "      <td>[{'identifier': 'goals_scored', 'a': [{'value'...</td>\n",
       "      <td>2</td>\n",
       "      <td>4</td>\n",
       "      <td>93322</td>\n",
       "    </tr>\n",
       "    <tr>\n",
       "      <th>4</th>\n",
       "      <td>2367539</td>\n",
       "      <td>1</td>\n",
       "      <td>True</td>\n",
       "      <td>True</td>\n",
       "      <td>3</td>\n",
       "      <td>2023-08-12T14:00:00Z</td>\n",
       "      <td>90</td>\n",
       "      <td>False</td>\n",
       "      <td>True</td>\n",
       "      <td>19</td>\n",
       "      <td>1.0</td>\n",
       "      <td>3</td>\n",
       "      <td>1.0</td>\n",
       "      <td>[{'identifier': 'goals_scored', 'a': [{'value'...</td>\n",
       "      <td>2</td>\n",
       "      <td>2</td>\n",
       "      <td>93323</td>\n",
       "    </tr>\n",
       "    <tr>\n",
       "      <th>...</th>\n",
       "      <td>...</td>\n",
       "      <td>...</td>\n",
       "      <td>...</td>\n",
       "      <td>...</td>\n",
       "      <td>...</td>\n",
       "      <td>...</td>\n",
       "      <td>...</td>\n",
       "      <td>...</td>\n",
       "      <td>...</td>\n",
       "      <td>...</td>\n",
       "      <td>...</td>\n",
       "      <td>...</td>\n",
       "      <td>...</td>\n",
       "      <td>...</td>\n",
       "      <td>...</td>\n",
       "      <td>...</td>\n",
       "      <td>...</td>\n",
       "    </tr>\n",
       "    <tr>\n",
       "      <th>375</th>\n",
       "      <td>2367913</td>\n",
       "      <td>38</td>\n",
       "      <td>False</td>\n",
       "      <td>False</td>\n",
       "      <td>376</td>\n",
       "      <td>2024-05-19T15:00:00Z</td>\n",
       "      <td>0</td>\n",
       "      <td>False</td>\n",
       "      <td>False</td>\n",
       "      <td>2</td>\n",
       "      <td>NaN</td>\n",
       "      <td>8</td>\n",
       "      <td>NaN</td>\n",
       "      <td>[]</td>\n",
       "      <td>3</td>\n",
       "      <td>2</td>\n",
       "      <td>93696</td>\n",
       "    </tr>\n",
       "    <tr>\n",
       "      <th>376</th>\n",
       "      <td>2367914</td>\n",
       "      <td>38</td>\n",
       "      <td>False</td>\n",
       "      <td>False</td>\n",
       "      <td>377</td>\n",
       "      <td>2024-05-19T15:00:00Z</td>\n",
       "      <td>0</td>\n",
       "      <td>False</td>\n",
       "      <td>False</td>\n",
       "      <td>20</td>\n",
       "      <td>NaN</td>\n",
       "      <td>11</td>\n",
       "      <td>NaN</td>\n",
       "      <td>[]</td>\n",
       "      <td>2</td>\n",
       "      <td>4</td>\n",
       "      <td>93697</td>\n",
       "    </tr>\n",
       "    <tr>\n",
       "      <th>377</th>\n",
       "      <td>2367915</td>\n",
       "      <td>38</td>\n",
       "      <td>False</td>\n",
       "      <td>False</td>\n",
       "      <td>378</td>\n",
       "      <td>2024-05-19T15:00:00Z</td>\n",
       "      <td>0</td>\n",
       "      <td>False</td>\n",
       "      <td>False</td>\n",
       "      <td>10</td>\n",
       "      <td>NaN</td>\n",
       "      <td>12</td>\n",
       "      <td>NaN</td>\n",
       "      <td>[]</td>\n",
       "      <td>2</td>\n",
       "      <td>2</td>\n",
       "      <td>93698</td>\n",
       "    </tr>\n",
       "    <tr>\n",
       "      <th>378</th>\n",
       "      <td>2367916</td>\n",
       "      <td>38</td>\n",
       "      <td>False</td>\n",
       "      <td>False</td>\n",
       "      <td>379</td>\n",
       "      <td>2024-05-19T15:00:00Z</td>\n",
       "      <td>0</td>\n",
       "      <td>False</td>\n",
       "      <td>False</td>\n",
       "      <td>19</td>\n",
       "      <td>NaN</td>\n",
       "      <td>13</td>\n",
       "      <td>NaN</td>\n",
       "      <td>[]</td>\n",
       "      <td>2</td>\n",
       "      <td>5</td>\n",
       "      <td>93699</td>\n",
       "    </tr>\n",
       "    <tr>\n",
       "      <th>379</th>\n",
       "      <td>2367917</td>\n",
       "      <td>38</td>\n",
       "      <td>False</td>\n",
       "      <td>False</td>\n",
       "      <td>380</td>\n",
       "      <td>2024-05-19T15:00:00Z</td>\n",
       "      <td>0</td>\n",
       "      <td>False</td>\n",
       "      <td>False</td>\n",
       "      <td>18</td>\n",
       "      <td>NaN</td>\n",
       "      <td>17</td>\n",
       "      <td>NaN</td>\n",
       "      <td>[]</td>\n",
       "      <td>3</td>\n",
       "      <td>2</td>\n",
       "      <td>93700</td>\n",
       "    </tr>\n",
       "  </tbody>\n",
       "</table>\n",
       "<p>380 rows × 17 columns</p>\n",
       "</div>"
      ],
      "text/plain": [
       "        code  event  finished  finished_provisional   id  \\\n",
       "0    2367552      0     False                 False   15   \n",
       "1    2367713      0     False                 False  176   \n",
       "2    2367538      1      True                  True    1   \n",
       "3    2367540      1      True                  True    2   \n",
       "4    2367539      1      True                  True    3   \n",
       "..       ...    ...       ...                   ...  ...   \n",
       "375  2367913     38     False                 False  376   \n",
       "376  2367914     38     False                 False  377   \n",
       "377  2367915     38     False                 False  378   \n",
       "378  2367916     38     False                 False  379   \n",
       "379  2367917     38     False                 False  380   \n",
       "\n",
       "             kickoff_time  minutes  provisional_start_time started team_a  \\\n",
       "0                    None        0                   False    None      6   \n",
       "1                    None        0                   False    None      4   \n",
       "2    2023-08-11T19:00:00Z       90                   False    True     13   \n",
       "3    2023-08-12T12:00:00Z       90                   False    True     16   \n",
       "4    2023-08-12T14:00:00Z       90                   False    True     19   \n",
       "..                    ...      ...                     ...     ...    ...   \n",
       "375  2024-05-19T15:00:00Z        0                   False   False      2   \n",
       "376  2024-05-19T15:00:00Z        0                   False   False     20   \n",
       "377  2024-05-19T15:00:00Z        0                   False   False     10   \n",
       "378  2024-05-19T15:00:00Z        0                   False   False     19   \n",
       "379  2024-05-19T15:00:00Z        0                   False   False     18   \n",
       "\n",
       "     team_a_score team_h  team_h_score  \\\n",
       "0             NaN     12           NaN   \n",
       "1             NaN     13           NaN   \n",
       "2             3.0      6           0.0   \n",
       "3             1.0      1           2.0   \n",
       "4             1.0      3           1.0   \n",
       "..            ...    ...           ...   \n",
       "375           NaN      8           NaN   \n",
       "376           NaN     11           NaN   \n",
       "377           NaN     12           NaN   \n",
       "378           NaN     13           NaN   \n",
       "379           NaN     17           NaN   \n",
       "\n",
       "                                                 stats  team_h_difficulty  \\\n",
       "0                                                   []                  2   \n",
       "1                                                   []                  3   \n",
       "2    [{'identifier': 'goals_scored', 'a': [{'value'...                  5   \n",
       "3    [{'identifier': 'goals_scored', 'a': [{'value'...                  2   \n",
       "4    [{'identifier': 'goals_scored', 'a': [{'value'...                  2   \n",
       "..                                                 ...                ...   \n",
       "375                                                 []                  3   \n",
       "376                                                 []                  2   \n",
       "377                                                 []                  2   \n",
       "378                                                 []                  2   \n",
       "379                                                 []                  3   \n",
       "\n",
       "     team_a_difficulty  pulse_id  \n",
       "0                    2     93335  \n",
       "1                    5     93496  \n",
       "2                    2     93321  \n",
       "3                    4     93322  \n",
       "4                    2     93323  \n",
       "..                 ...       ...  \n",
       "375                  2     93696  \n",
       "376                  4     93697  \n",
       "377                  2     93698  \n",
       "378                  5     93699  \n",
       "379                  2     93700  \n",
       "\n",
       "[380 rows x 17 columns]"
      ]
     },
     "execution_count": 25,
     "metadata": {},
     "output_type": "execute_result"
    }
   ],
   "source": [
    "fixtures_df"
   ]
  },
  {
   "cell_type": "code",
   "execution_count": null,
   "metadata": {},
   "outputs": [],
   "source": []
  },
  {
   "cell_type": "code",
   "execution_count": null,
   "metadata": {},
   "outputs": [],
   "source": []
  },
  {
   "cell_type": "code",
   "execution_count": null,
   "metadata": {},
   "outputs": [],
   "source": []
  },
  {
   "cell_type": "code",
   "execution_count": null,
   "metadata": {},
   "outputs": [],
   "source": []
  },
  {
   "cell_type": "code",
   "execution_count": null,
   "metadata": {},
   "outputs": [],
   "source": []
  },
  {
   "cell_type": "code",
   "execution_count": null,
   "metadata": {},
   "outputs": [],
   "source": []
  },
  {
   "cell_type": "code",
   "execution_count": null,
   "metadata": {},
   "outputs": [],
   "source": []
  },
  {
   "cell_type": "code",
   "execution_count": null,
   "metadata": {},
   "outputs": [],
   "source": []
  },
  {
   "cell_type": "code",
   "execution_count": null,
   "metadata": {},
   "outputs": [],
   "source": []
  },
  {
   "cell_type": "code",
   "execution_count": null,
   "metadata": {},
   "outputs": [],
   "source": []
  },
  {
   "cell_type": "code",
   "execution_count": null,
   "metadata": {},
   "outputs": [],
   "source": []
  },
  {
   "cell_type": "code",
   "execution_count": null,
   "metadata": {},
   "outputs": [],
   "source": []
  },
  {
   "cell_type": "code",
   "execution_count": null,
   "metadata": {},
   "outputs": [],
   "source": []
  },
  {
   "cell_type": "code",
   "execution_count": null,
   "metadata": {},
   "outputs": [],
   "source": []
  },
  {
   "cell_type": "code",
   "execution_count": null,
   "metadata": {},
   "outputs": [],
   "source": []
  },
  {
   "cell_type": "code",
   "execution_count": null,
   "metadata": {},
   "outputs": [],
   "source": []
  },
  {
   "cell_type": "code",
   "execution_count": null,
   "metadata": {},
   "outputs": [],
   "source": []
  },
  {
   "cell_type": "code",
   "execution_count": null,
   "metadata": {},
   "outputs": [],
   "source": []
  }
 ],
 "metadata": {
  "kernelspec": {
   "display_name": "Python 3",
   "language": "python",
   "name": "python3"
  },
  "language_info": {
   "codemirror_mode": {
    "name": "ipython",
    "version": 3
   },
   "file_extension": ".py",
   "mimetype": "text/x-python",
   "name": "python",
   "nbconvert_exporter": "python",
   "pygments_lexer": "ipython3",
   "version": "3.10.9"
  },
  "orig_nbformat": 4
 },
 "nbformat": 4,
 "nbformat_minor": 2
}
