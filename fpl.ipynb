{
 "cells": [
  {
   "cell_type": "code",
   "execution_count": 1,
   "metadata": {},
   "outputs": [],
   "source": [
    "import requests\n",
    "import json\n",
    "import pandas as pd"
   ]
  },
  {
   "cell_type": "code",
   "execution_count": 2,
   "metadata": {},
   "outputs": [],
   "source": [
    "import numpy as np"
   ]
  },
  {
   "cell_type": "code",
   "execution_count": 3,
   "metadata": {},
   "outputs": [],
   "source": [
    "from PIL import Image\n",
    "from io import BytesIO"
   ]
  },
  {
   "cell_type": "code",
   "execution_count": 4,
   "metadata": {},
   "outputs": [],
   "source": [
    "pd.options.display.max_columns = 999"
   ]
  },
  {
   "cell_type": "code",
   "execution_count": 5,
   "metadata": {},
   "outputs": [],
   "source": [
    "fpl = 'https://fantasy.premierleague.com/api'\n",
    "static_end = '/bootstrap-static/'\n",
    "fixtures_end = '/fixtures/'\n",
    "player_end = '/element-summary/'"
   ]
  },
  {
   "cell_type": "markdown",
   "metadata": {},
   "source": [
    "### static information"
   ]
  },
  {
   "cell_type": "code",
   "execution_count": 6,
   "metadata": {},
   "outputs": [],
   "source": [
    "r = requests.get(fpl+static_end)\n",
    "static = json.loads(r.content)"
   ]
  },
  {
   "cell_type": "code",
   "execution_count": 7,
   "metadata": {},
   "outputs": [],
   "source": [
    "players = pd.DataFrame(static['elements'])"
   ]
  },
  {
   "cell_type": "code",
   "execution_count": 8,
   "metadata": {},
   "outputs": [],
   "source": [
    "events = pd.DataFrame(static['events'])"
   ]
  },
  {
   "cell_type": "code",
   "execution_count": 9,
   "metadata": {},
   "outputs": [],
   "source": [
    "teams = pd.DataFrame(static['teams'])\n",
    "teams['id'] = teams['id'].astype(str)"
   ]
  },
  {
   "cell_type": "markdown",
   "metadata": {},
   "source": [
    "### fixtures"
   ]
  },
  {
   "cell_type": "code",
   "execution_count": 10,
   "metadata": {},
   "outputs": [],
   "source": [
    "r = requests.get(fpl+fixtures_end)\n",
    "fixtures = json.loads(r.content)"
   ]
  },
  {
   "cell_type": "code",
   "execution_count": 11,
   "metadata": {},
   "outputs": [],
   "source": [
    "fixtures_df = pd.DataFrame(fixtures)\n",
    "fixtures_df['event'].fillna(0,inplace=True)\n",
    "fixtures_df['event'] = fixtures_df['event'].astype(str)\n",
    "fixtures_df['team_a'] = fixtures_df['team_a'].astype(str)\n",
    "fixtures_df['team_h'] = fixtures_df['team_h'].astype(str)"
   ]
  },
  {
   "cell_type": "markdown",
   "metadata": {},
   "source": [
    "### player summary"
   ]
  },
  {
   "cell_type": "code",
   "execution_count": 12,
   "metadata": {},
   "outputs": [],
   "source": [
    "player_id = '355/'\n",
    "r = requests.get(fpl+player_end+player_id)\n",
    "player_summary = json.loads(r.content)"
   ]
  },
  {
   "cell_type": "code",
   "execution_count": 13,
   "metadata": {},
   "outputs": [
    {
     "data": {
      "text/plain": [
       "dict_keys(['fixtures', 'history', 'history_past'])"
      ]
     },
     "execution_count": 13,
     "metadata": {},
     "output_type": "execute_result"
    }
   ],
   "source": [
    "player_summary.keys()"
   ]
  },
  {
   "cell_type": "code",
   "execution_count": 30,
   "metadata": {},
   "outputs": [
    {
     "data": {
      "text/plain": [
       "{'element': 355,\n",
       " 'fixture': 1,\n",
       " 'opponent_team': 6,\n",
       " 'total_points': 13,\n",
       " 'was_home': False,\n",
       " 'kickoff_time': '2023-08-11T19:00:00Z',\n",
       " 'team_h_score': 0,\n",
       " 'team_a_score': 3,\n",
       " 'round': 1,\n",
       " 'minutes': 79,\n",
       " 'goals_scored': 2,\n",
       " 'assists': 0,\n",
       " 'clean_sheets': 1,\n",
       " 'goals_conceded': 0,\n",
       " 'own_goals': 0,\n",
       " 'penalties_saved': 0,\n",
       " 'penalties_missed': 0,\n",
       " 'yellow_cards': 0,\n",
       " 'red_cards': 0,\n",
       " 'saves': 0,\n",
       " 'bonus': 3,\n",
       " 'bps': 56,\n",
       " 'influence': '67.6',\n",
       " 'creativity': '23.7',\n",
       " 'threat': '48.0',\n",
       " 'ict_index': '13.9',\n",
       " 'starts': 1,\n",
       " 'expected_goals': '0.60',\n",
       " 'expected_assists': '0.05',\n",
       " 'expected_goal_involvements': '0.65',\n",
       " 'expected_goals_conceded': '0.23',\n",
       " 'value': 140,\n",
       " 'transfers_balance': 0,\n",
       " 'selected': 7200159,\n",
       " 'transfers_in': 0,\n",
       " 'transfers_out': 0}"
      ]
     },
     "execution_count": 30,
     "metadata": {},
     "output_type": "execute_result"
    }
   ],
   "source": [
    "player_summary['history'][0]"
   ]
  },
  {
   "cell_type": "markdown",
   "metadata": {},
   "source": [
    "### gameweek live"
   ]
  },
  {
   "cell_type": "code",
   "execution_count": 14,
   "metadata": {},
   "outputs": [],
   "source": [
    "live_end = '/event/1/live/'\n",
    "r = requests.get(fpl+live_end)\n",
    "gw = json.loads(r.content)"
   ]
  },
  {
   "cell_type": "code",
   "execution_count": 15,
   "metadata": {},
   "outputs": [],
   "source": [
    "id_list = []\n",
    "stat_list = []\n",
    "for player in gw['elements']:\n",
    "    id_list.append(player['id'])\n",
    "    stat_list.append(player['stats'])\n",
    "stats_df = pd.DataFrame(stat_list)\n",
    "stats_df.insert(0, 'id', id_list)"
   ]
  },
  {
   "cell_type": "markdown",
   "metadata": {},
   "source": [
    "### sandbox"
   ]
  },
  {
   "cell_type": "code",
   "execution_count": 16,
   "metadata": {},
   "outputs": [],
   "source": [
    "teams_dict= teams.set_index('id')['short_name'].to_dict()"
   ]
  },
  {
   "cell_type": "code",
   "execution_count": 17,
   "metadata": {},
   "outputs": [],
   "source": [
    "def get_teams_difficulty(gw=None):\n",
    "    if not gw:\n",
    "        gw = events.loc[events['is_current'],['id']].values[0][0]\n",
    "    team_h = fixtures_df.loc[fixtures_df['event'] == gw, ['team_h', 'team_h_difficulty']].values\n",
    "    team_a = fixtures_df.loc[fixtures_df['event'] == gw, ['team_a', 'team_a_difficulty']].values\n",
    "    diff_list = np.concatenate((team_h, team_a))\n",
    "    diff_df = pd.DataFrame(diff_list, columns=['team', 'difficulty'])\n",
    "    diff_df.sort_values(by=['difficulty'],inplace=True)\n",
    "    diff_df.reset_index(inplace=True)\n",
    "    diff_df.drop(columns=['index'], inplace=True)\n",
    "    return diff_df"
   ]
  },
  {
   "cell_type": "code",
   "execution_count": 18,
   "metadata": {},
   "outputs": [
    {
     "data": {
      "text/html": [
       "<div>\n",
       "<style scoped>\n",
       "    .dataframe tbody tr th:only-of-type {\n",
       "        vertical-align: middle;\n",
       "    }\n",
       "\n",
       "    .dataframe tbody tr th {\n",
       "        vertical-align: top;\n",
       "    }\n",
       "\n",
       "    .dataframe thead th {\n",
       "        text-align: right;\n",
       "    }\n",
       "</style>\n",
       "<table border=\"1\" class=\"dataframe\">\n",
       "  <thead>\n",
       "    <tr style=\"text-align: right;\">\n",
       "      <th></th>\n",
       "      <th>team_h</th>\n",
       "      <th>team_h_difficulty</th>\n",
       "      <th>team_a</th>\n",
       "      <th>team_a_difficulty</th>\n",
       "    </tr>\n",
       "  </thead>\n",
       "  <tbody>\n",
       "    <tr>\n",
       "      <th>49</th>\n",
       "      <td>EVE</td>\n",
       "      <td>4</td>\n",
       "      <td>ARS</td>\n",
       "      <td>2</td>\n",
       "    </tr>\n",
       "    <tr>\n",
       "      <th>56</th>\n",
       "      <td>ARS</td>\n",
       "      <td>3</td>\n",
       "      <td>TOT</td>\n",
       "      <td>4</td>\n",
       "    </tr>\n",
       "    <tr>\n",
       "      <th>62</th>\n",
       "      <td>BOU</td>\n",
       "      <td>4</td>\n",
       "      <td>ARS</td>\n",
       "      <td>2</td>\n",
       "    </tr>\n",
       "  </tbody>\n",
       "</table>\n",
       "</div>"
      ],
      "text/plain": [
       "   team_h  team_h_difficulty team_a  team_a_difficulty\n",
       "49    EVE                  4    ARS                  2\n",
       "56    ARS                  3    TOT                  4\n",
       "62    BOU                  4    ARS                  2"
      ]
     },
     "execution_count": 18,
     "metadata": {},
     "output_type": "execute_result"
    }
   ],
   "source": [
    "fixtures_df.loc[((fixtures_df['team_a'] == '1') |\n",
    "                (fixtures_df['team_h'] == '1')) &\n",
    "                (fixtures_df['finished'] == False),\n",
    "                ['team_h','team_h_difficulty','team_a','team_a_difficulty']].head(3).replace(teams_dict)"
   ]
  },
  {
   "cell_type": "code",
   "execution_count": 19,
   "metadata": {},
   "outputs": [],
   "source": [
    "def get_gameweek(event=1):\n",
    "    url = f'https://fantasy.premierleague.com/api/event/{event}/live/'\n",
    "    r = requests.get(url)\n",
    "    raw = json.loads(r.content)\n",
    "    id_list = []\n",
    "    stat_list = []\n",
    "    for player in raw['elements']:\n",
    "        id_list.append(player['id'])\n",
    "        stat_list.append(player['stats'])\n",
    "    player_stats = pd.DataFrame(stat_list)\n",
    "    player_stats['id'] = id_list\n",
    "    player_stats['id'] = player_stats['id'].astype(str)\n",
    "    return player_stats"
   ]
  },
  {
   "cell_type": "code",
   "execution_count": 20,
   "metadata": {},
   "outputs": [],
   "source": [
    "finished_events= events.loc[events['finished']]['id'].tolist()"
   ]
  },
  {
   "cell_type": "code",
   "execution_count": 21,
   "metadata": {},
   "outputs": [],
   "source": [
    "element_past_fixtures = pd.DataFrame(player_summary['history'])"
   ]
  },
  {
   "cell_type": "code",
   "execution_count": 22,
   "metadata": {},
   "outputs": [],
   "source": [
    "element_fixtures = pd.DataFrame(player_summary['fixtures'])"
   ]
  },
  {
   "cell_type": "code",
   "execution_count": 23,
   "metadata": {},
   "outputs": [],
   "source": [
    "sample = stats_df.pop('id')"
   ]
  },
  {
   "cell_type": "code",
   "execution_count": 24,
   "metadata": {},
   "outputs": [],
   "source": [
    "forwards = players.loc[players['element_type'] == 4]"
   ]
  },
  {
   "cell_type": "code",
   "execution_count": 28,
   "metadata": {},
   "outputs": [
    {
     "data": {
      "text/plain": [
       "0      4.4\n",
       "1      4.0\n",
       "2      4.4\n",
       "3      5.4\n",
       "4      4.8\n",
       "      ... \n",
       "698    5.5\n",
       "699    4.4\n",
       "700    4.5\n",
       "701    5.0\n",
       "702    4.5\n",
       "Name: now_cost, Length: 703, dtype: float64"
      ]
     },
     "execution_count": 28,
     "metadata": {},
     "output_type": "execute_result"
    }
   ],
   "source": [
    "players['now_cost'] * 0.1"
   ]
  },
  {
   "cell_type": "code",
   "execution_count": 31,
   "metadata": {},
   "outputs": [
    {
     "data": {
      "text/html": [
       "<div>\n",
       "<style scoped>\n",
       "    .dataframe tbody tr th:only-of-type {\n",
       "        vertical-align: middle;\n",
       "    }\n",
       "\n",
       "    .dataframe tbody tr th {\n",
       "        vertical-align: top;\n",
       "    }\n",
       "\n",
       "    .dataframe thead th {\n",
       "        text-align: right;\n",
       "    }\n",
       "</style>\n",
       "<table border=\"1\" class=\"dataframe\">\n",
       "  <thead>\n",
       "    <tr style=\"text-align: right;\">\n",
       "      <th></th>\n",
       "      <th>element</th>\n",
       "      <th>fixture</th>\n",
       "      <th>opponent_team</th>\n",
       "      <th>total_points</th>\n",
       "      <th>was_home</th>\n",
       "      <th>kickoff_time</th>\n",
       "      <th>team_h_score</th>\n",
       "      <th>team_a_score</th>\n",
       "      <th>round</th>\n",
       "      <th>minutes</th>\n",
       "      <th>goals_scored</th>\n",
       "      <th>assists</th>\n",
       "      <th>clean_sheets</th>\n",
       "      <th>goals_conceded</th>\n",
       "      <th>own_goals</th>\n",
       "      <th>penalties_saved</th>\n",
       "      <th>penalties_missed</th>\n",
       "      <th>yellow_cards</th>\n",
       "      <th>red_cards</th>\n",
       "      <th>saves</th>\n",
       "      <th>bonus</th>\n",
       "      <th>bps</th>\n",
       "      <th>influence</th>\n",
       "      <th>creativity</th>\n",
       "      <th>threat</th>\n",
       "      <th>ict_index</th>\n",
       "      <th>starts</th>\n",
       "      <th>expected_goals</th>\n",
       "      <th>expected_assists</th>\n",
       "      <th>expected_goal_involvements</th>\n",
       "      <th>expected_goals_conceded</th>\n",
       "      <th>value</th>\n",
       "      <th>transfers_balance</th>\n",
       "      <th>selected</th>\n",
       "      <th>transfers_in</th>\n",
       "      <th>transfers_out</th>\n",
       "    </tr>\n",
       "  </thead>\n",
       "  <tbody>\n",
       "    <tr>\n",
       "      <th>0</th>\n",
       "      <td>355</td>\n",
       "      <td>1</td>\n",
       "      <td>6</td>\n",
       "      <td>13</td>\n",
       "      <td>False</td>\n",
       "      <td>2023-08-11T19:00:00Z</td>\n",
       "      <td>0</td>\n",
       "      <td>3</td>\n",
       "      <td>1</td>\n",
       "      <td>79</td>\n",
       "      <td>2</td>\n",
       "      <td>0</td>\n",
       "      <td>1</td>\n",
       "      <td>0</td>\n",
       "      <td>0</td>\n",
       "      <td>0</td>\n",
       "      <td>0</td>\n",
       "      <td>0</td>\n",
       "      <td>0</td>\n",
       "      <td>0</td>\n",
       "      <td>3</td>\n",
       "      <td>56</td>\n",
       "      <td>67.6</td>\n",
       "      <td>23.7</td>\n",
       "      <td>48.0</td>\n",
       "      <td>13.9</td>\n",
       "      <td>1</td>\n",
       "      <td>0.60</td>\n",
       "      <td>0.05</td>\n",
       "      <td>0.65</td>\n",
       "      <td>0.23</td>\n",
       "      <td>140</td>\n",
       "      <td>0</td>\n",
       "      <td>7200159</td>\n",
       "      <td>0</td>\n",
       "      <td>0</td>\n",
       "    </tr>\n",
       "    <tr>\n",
       "      <th>1</th>\n",
       "      <td>355</td>\n",
       "      <td>16</td>\n",
       "      <td>15</td>\n",
       "      <td>2</td>\n",
       "      <td>True</td>\n",
       "      <td>2023-08-19T19:00:00Z</td>\n",
       "      <td>1</td>\n",
       "      <td>0</td>\n",
       "      <td>2</td>\n",
       "      <td>90</td>\n",
       "      <td>0</td>\n",
       "      <td>0</td>\n",
       "      <td>1</td>\n",
       "      <td>0</td>\n",
       "      <td>0</td>\n",
       "      <td>0</td>\n",
       "      <td>0</td>\n",
       "      <td>0</td>\n",
       "      <td>0</td>\n",
       "      <td>0</td>\n",
       "      <td>0</td>\n",
       "      <td>1</td>\n",
       "      <td>3.2</td>\n",
       "      <td>11.8</td>\n",
       "      <td>48.0</td>\n",
       "      <td>6.3</td>\n",
       "      <td>1</td>\n",
       "      <td>0.43</td>\n",
       "      <td>0.02</td>\n",
       "      <td>0.45</td>\n",
       "      <td>0.29</td>\n",
       "      <td>140</td>\n",
       "      <td>132944</td>\n",
       "      <td>8231668</td>\n",
       "      <td>161773</td>\n",
       "      <td>28829</td>\n",
       "    </tr>\n",
       "    <tr>\n",
       "      <th>2</th>\n",
       "      <td>355</td>\n",
       "      <td>30</td>\n",
       "      <td>17</td>\n",
       "      <td>4</td>\n",
       "      <td>False</td>\n",
       "      <td>2023-08-27T13:00:00Z</td>\n",
       "      <td>1</td>\n",
       "      <td>2</td>\n",
       "      <td>3</td>\n",
       "      <td>90</td>\n",
       "      <td>1</td>\n",
       "      <td>0</td>\n",
       "      <td>0</td>\n",
       "      <td>1</td>\n",
       "      <td>0</td>\n",
       "      <td>0</td>\n",
       "      <td>1</td>\n",
       "      <td>0</td>\n",
       "      <td>0</td>\n",
       "      <td>0</td>\n",
       "      <td>0</td>\n",
       "      <td>14</td>\n",
       "      <td>34.2</td>\n",
       "      <td>12.9</td>\n",
       "      <td>97.0</td>\n",
       "      <td>14.4</td>\n",
       "      <td>1</td>\n",
       "      <td>1.93</td>\n",
       "      <td>0.01</td>\n",
       "      <td>1.94</td>\n",
       "      <td>0.73</td>\n",
       "      <td>140</td>\n",
       "      <td>64397</td>\n",
       "      <td>8571562</td>\n",
       "      <td>91189</td>\n",
       "      <td>26792</td>\n",
       "    </tr>\n",
       "    <tr>\n",
       "      <th>3</th>\n",
       "      <td>355</td>\n",
       "      <td>39</td>\n",
       "      <td>10</td>\n",
       "      <td>20</td>\n",
       "      <td>True</td>\n",
       "      <td>2023-09-02T14:00:00Z</td>\n",
       "      <td>5</td>\n",
       "      <td>1</td>\n",
       "      <td>4</td>\n",
       "      <td>90</td>\n",
       "      <td>3</td>\n",
       "      <td>1</td>\n",
       "      <td>0</td>\n",
       "      <td>1</td>\n",
       "      <td>0</td>\n",
       "      <td>0</td>\n",
       "      <td>0</td>\n",
       "      <td>0</td>\n",
       "      <td>0</td>\n",
       "      <td>0</td>\n",
       "      <td>3</td>\n",
       "      <td>90</td>\n",
       "      <td>119.4</td>\n",
       "      <td>23.4</td>\n",
       "      <td>55.0</td>\n",
       "      <td>19.8</td>\n",
       "      <td>1</td>\n",
       "      <td>1.58</td>\n",
       "      <td>0.10</td>\n",
       "      <td>1.68</td>\n",
       "      <td>1.45</td>\n",
       "      <td>140</td>\n",
       "      <td>27163</td>\n",
       "      <td>8787213</td>\n",
       "      <td>53175</td>\n",
       "      <td>26012</td>\n",
       "    </tr>\n",
       "  </tbody>\n",
       "</table>\n",
       "</div>"
      ],
      "text/plain": [
       "   element  fixture  opponent_team  total_points  was_home  \\\n",
       "0      355        1              6            13     False   \n",
       "1      355       16             15             2      True   \n",
       "2      355       30             17             4     False   \n",
       "3      355       39             10            20      True   \n",
       "\n",
       "           kickoff_time  team_h_score  team_a_score  round  minutes  \\\n",
       "0  2023-08-11T19:00:00Z             0             3      1       79   \n",
       "1  2023-08-19T19:00:00Z             1             0      2       90   \n",
       "2  2023-08-27T13:00:00Z             1             2      3       90   \n",
       "3  2023-09-02T14:00:00Z             5             1      4       90   \n",
       "\n",
       "   goals_scored  assists  clean_sheets  goals_conceded  own_goals  \\\n",
       "0             2        0             1               0          0   \n",
       "1             0        0             1               0          0   \n",
       "2             1        0             0               1          0   \n",
       "3             3        1             0               1          0   \n",
       "\n",
       "   penalties_saved  penalties_missed  yellow_cards  red_cards  saves  bonus  \\\n",
       "0                0                 0             0          0      0      3   \n",
       "1                0                 0             0          0      0      0   \n",
       "2                0                 1             0          0      0      0   \n",
       "3                0                 0             0          0      0      3   \n",
       "\n",
       "   bps influence creativity threat ict_index  starts expected_goals  \\\n",
       "0   56      67.6       23.7   48.0      13.9       1           0.60   \n",
       "1    1       3.2       11.8   48.0       6.3       1           0.43   \n",
       "2   14      34.2       12.9   97.0      14.4       1           1.93   \n",
       "3   90     119.4       23.4   55.0      19.8       1           1.58   \n",
       "\n",
       "  expected_assists expected_goal_involvements expected_goals_conceded  value  \\\n",
       "0             0.05                       0.65                    0.23    140   \n",
       "1             0.02                       0.45                    0.29    140   \n",
       "2             0.01                       1.94                    0.73    140   \n",
       "3             0.10                       1.68                    1.45    140   \n",
       "\n",
       "   transfers_balance  selected  transfers_in  transfers_out  \n",
       "0                  0   7200159             0              0  \n",
       "1             132944   8231668        161773          28829  \n",
       "2              64397   8571562         91189          26792  \n",
       "3              27163   8787213         53175          26012  "
      ]
     },
     "execution_count": 31,
     "metadata": {},
     "output_type": "execute_result"
    }
   ],
   "source": [
    "element_past_fixtures"
   ]
  },
  {
   "cell_type": "code",
   "execution_count": null,
   "metadata": {},
   "outputs": [],
   "source": []
  },
  {
   "cell_type": "code",
   "execution_count": null,
   "metadata": {},
   "outputs": [],
   "source": []
  },
  {
   "cell_type": "code",
   "execution_count": null,
   "metadata": {},
   "outputs": [],
   "source": []
  }
 ],
 "metadata": {
  "kernelspec": {
   "display_name": "Python 3",
   "language": "python",
   "name": "python3"
  },
  "language_info": {
   "codemirror_mode": {
    "name": "ipython",
    "version": 3
   },
   "file_extension": ".py",
   "mimetype": "text/x-python",
   "name": "python",
   "nbconvert_exporter": "python",
   "pygments_lexer": "ipython3",
   "version": "3.10.9"
  },
  "orig_nbformat": 4
 },
 "nbformat": 4,
 "nbformat_minor": 2
}
