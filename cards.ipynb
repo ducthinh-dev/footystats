{
 "cells": [
  {
   "cell_type": "code",
   "execution_count": 1,
   "metadata": {},
   "outputs": [],
   "source": [
    "from PIL import Image, ImageDraw"
   ]
  },
  {
   "cell_type": "code",
   "execution_count": 5,
   "metadata": {},
   "outputs": [],
   "source": [
    "import requests"
   ]
  },
  {
   "cell_type": "code",
   "execution_count": 13,
   "metadata": {},
   "outputs": [],
   "source": [
    "# Create a new blank image with a white background\n",
    "width, height = 400, 300\n",
    "image = Image.new(\"RGB\", (width, height), \"white\")\n",
    "\n",
    "# Create a drawing object\n",
    "draw = ImageDraw.Draw(image)\n",
    "\n",
    "# Define the coordinates for the rectangle (left, top, right, bottom)\n",
    "left = 0\n",
    "top = 0\n",
    "right = 400\n",
    "bottom = 300\n",
    "\n",
    "# Define gradient colors (start and end colors, in RGB)\n",
    "start_color = (255, 0, 0)  # Red\n",
    "end_color = (0, 0, 255)    # Blue\n",
    "\n",
    "# Create a diagonal gradient\n",
    "for y in range(top, bottom):\n",
    "    # Calculate the interpolation factor (0 to 1) based on the y position\n",
    "    t = (y - top) / (bottom - top)\n",
    "    \n",
    "    # Interpolate between start_color and end_color\n",
    "    r = int(start_color[0] * (1 - t) + end_color[0] * t)\n",
    "    g = int(start_color[1] * (1 - t) + end_color[1] * t)\n",
    "    b = int(start_color[2] * (1 - t) + end_color[2] * t)\n",
    "    \n",
    "    # Draw a diagonal line with the interpolated color\n",
    "    draw.line([(left, y), (right, y)], fill=(r, g, b))\n",
    "\n",
    "# Save the image or display it\n",
    "image.show()"
   ]
  },
  {
   "cell_type": "code",
   "execution_count": 8,
   "metadata": {},
   "outputs": [],
   "source": [
    "img = Image.open(requests.get('https://resources.premierleague.com/premierleague/photos/players/250x250/p219168.png', stream=True).raw)"
   ]
  },
  {
   "cell_type": "code",
   "execution_count": 11,
   "metadata": {},
   "outputs": [],
   "source": [
    "img.show()"
   ]
  },
  {
   "cell_type": "code",
   "execution_count": null,
   "metadata": {},
   "outputs": [],
   "source": []
  },
  {
   "cell_type": "code",
   "execution_count": null,
   "metadata": {},
   "outputs": [],
   "source": []
  },
  {
   "cell_type": "code",
   "execution_count": null,
   "metadata": {},
   "outputs": [],
   "source": []
  },
  {
   "cell_type": "code",
   "execution_count": null,
   "metadata": {},
   "outputs": [],
   "source": []
  },
  {
   "cell_type": "code",
   "execution_count": null,
   "metadata": {},
   "outputs": [],
   "source": []
  },
  {
   "cell_type": "code",
   "execution_count": null,
   "metadata": {},
   "outputs": [],
   "source": []
  },
  {
   "cell_type": "code",
   "execution_count": null,
   "metadata": {},
   "outputs": [],
   "source": []
  },
  {
   "cell_type": "code",
   "execution_count": null,
   "metadata": {},
   "outputs": [],
   "source": []
  },
  {
   "cell_type": "code",
   "execution_count": null,
   "metadata": {},
   "outputs": [],
   "source": []
  },
  {
   "cell_type": "code",
   "execution_count": null,
   "metadata": {},
   "outputs": [],
   "source": []
  },
  {
   "cell_type": "code",
   "execution_count": null,
   "metadata": {},
   "outputs": [],
   "source": []
  }
 ],
 "metadata": {
  "kernelspec": {
   "display_name": "Python 3",
   "language": "python",
   "name": "python3"
  },
  "language_info": {
   "codemirror_mode": {
    "name": "ipython",
    "version": 3
   },
   "file_extension": ".py",
   "mimetype": "text/x-python",
   "name": "python",
   "nbconvert_exporter": "python",
   "pygments_lexer": "ipython3",
   "version": "3.10.9"
  },
  "orig_nbformat": 4
 },
 "nbformat": 4,
 "nbformat_minor": 2
}
