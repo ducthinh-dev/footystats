{
 "cells": [
  {
   "cell_type": "code",
   "execution_count": 1,
   "metadata": {},
   "outputs": [],
   "source": [
    "import requests\n",
    "from bs4 import BeautifulSoup\n",
    "import pandas as pd"
   ]
  },
  {
   "cell_type": "code",
   "execution_count": 2,
   "metadata": {},
   "outputs": [],
   "source": [
    "url = 'https://fbref.com/en/players/700783e7/Levi-Colwill'\n",
    "r = requests.get(url=url)\n",
    "soup = BeautifulSoup(r.content, 'html5lib')"
   ]
  },
  {
   "cell_type": "code",
   "execution_count": 3,
   "metadata": {},
   "outputs": [],
   "source": [
    "table_stats = soup.findAll('table', attrs={'class':'stats_table'})"
   ]
  },
  {
   "cell_type": "code",
   "execution_count": 13,
   "metadata": {},
   "outputs": [],
   "source": [
    "sample_table = table_stats[5]"
   ]
  },
  {
   "cell_type": "code",
   "execution_count": 36,
   "metadata": {},
   "outputs": [
    {
     "name": "stdout",
     "output_type": "stream",
     "text": [
      "stats_passing_types_dom_lg  of Levi Colwill\n",
      "age -- 16 ||team -- Chelsea ||country -- eng ENG ||comp_level -- Jr. PL2 — Div. 1 ||lg_finish -- 1st ||minutes_90s -- 3.0 ||passes --  ||passes_live --  ||passes_dead --  ||passes_free_kicks --  ||through_balls --  ||passes_switches --  ||crosses --  ||throw_ins --  ||corner_kicks --  ||corner_kicks_in --  ||corner_kicks_out --  ||corner_kicks_straight --  ||passes_completed --  ||passes_offsides --  ||passes_blocked --  ||matches -- Matches ||\n",
      "age -- 17 ||team -- Chelsea ||country -- eng ENG ||comp_level -- Jr. PL2 — Div. 1 ||lg_finish -- 2nd ||minutes_90s -- 16.5 ||passes --  ||passes_live --  ||passes_dead --  ||passes_free_kicks --  ||through_balls --  ||passes_switches --  ||crosses --  ||throw_ins --  ||corner_kicks --  ||corner_kicks_in --  ||corner_kicks_out --  ||corner_kicks_straight --  ||passes_completed --  ||passes_offsides --  ||passes_blocked --  ||matches -- Matches ||\n",
      "age -- 18 ||team -- Huddersfield ||country -- eng ENG ||comp_level -- 2. Championship ||lg_finish -- 3rd ||minutes_90s -- 26.9 ||passes -- 1490 ||passes_live -- 1396 ||passes_dead -- 90 ||passes_free_kicks -- 43 ||through_balls -- 1 ||passes_switches -- 18 ||crosses -- 9 ||throw_ins -- 38 ||corner_kicks -- 0 ||corner_kicks_in -- 0 ||corner_kicks_out -- 0 ||corner_kicks_straight -- 0 ||passes_completed -- 1159 ||passes_offsides -- 4 ||passes_blocked -- 16 ||matches -- Matches ||\n",
      "age -- 19 ||team -- Brighton ||country -- eng ENG ||comp_level -- Jr. PL2 — Div. 1 ||lg_finish -- 6th ||minutes_90s -- 1.5 ||passes --  ||passes_live --  ||passes_dead --  ||passes_free_kicks --  ||through_balls --  ||passes_switches --  ||crosses --  ||throw_ins --  ||corner_kicks --  ||corner_kicks_in --  ||corner_kicks_out --  ||corner_kicks_straight --  ||passes_completed --  ||passes_offsides --  ||passes_blocked --  ||matches -- Matches ||\n",
      "age -- 19 ||team -- Brighton ||country -- eng ENG ||comp_level -- 1. Premier League ||lg_finish -- 6th ||minutes_90s -- 13.6 ||passes -- 1165 ||passes_live -- 1096 ||passes_dead -- 64 ||passes_free_kicks -- 27 ||through_balls -- 2 ||passes_switches -- 1 ||crosses -- 1 ||throw_ins -- 11 ||corner_kicks -- 0 ||corner_kicks_in -- 0 ||corner_kicks_out -- 0 ||corner_kicks_straight -- 0 ||passes_completed -- 1027 ||passes_offsides -- 5 ||passes_blocked -- 6 ||matches -- Matches ||\n"
     ]
    }
   ],
   "source": [
    "print(sample_table['id'], ' of Levi Colwill')\n",
    "for tr in sample_table.tbody.findAll('tr'):\n",
    "    for child in tr.findAll('td'):\n",
    "        print(child['data-stat'], '--', child.text, '||',end='')\n",
    "    print('')"
   ]
  },
  {
   "cell_type": "code",
   "execution_count": null,
   "metadata": {},
   "outputs": [],
   "source": []
  },
  {
   "cell_type": "code",
   "execution_count": null,
   "metadata": {},
   "outputs": [],
   "source": []
  },
  {
   "cell_type": "code",
   "execution_count": null,
   "metadata": {},
   "outputs": [],
   "source": []
  },
  {
   "cell_type": "code",
   "execution_count": null,
   "metadata": {},
   "outputs": [],
   "source": []
  },
  {
   "cell_type": "code",
   "execution_count": null,
   "metadata": {},
   "outputs": [],
   "source": []
  },
  {
   "cell_type": "code",
   "execution_count": null,
   "metadata": {},
   "outputs": [],
   "source": []
  },
  {
   "cell_type": "code",
   "execution_count": null,
   "metadata": {},
   "outputs": [],
   "source": []
  },
  {
   "cell_type": "code",
   "execution_count": null,
   "metadata": {},
   "outputs": [],
   "source": []
  },
  {
   "cell_type": "code",
   "execution_count": null,
   "metadata": {},
   "outputs": [],
   "source": []
  },
  {
   "cell_type": "code",
   "execution_count": null,
   "metadata": {},
   "outputs": [],
   "source": []
  },
  {
   "cell_type": "code",
   "execution_count": null,
   "metadata": {},
   "outputs": [],
   "source": []
  }
 ],
 "metadata": {
  "kernelspec": {
   "display_name": "Python 3",
   "language": "python",
   "name": "python3"
  },
  "language_info": {
   "codemirror_mode": {
    "name": "ipython",
    "version": 3
   },
   "file_extension": ".py",
   "mimetype": "text/x-python",
   "name": "python",
   "nbconvert_exporter": "python",
   "pygments_lexer": "ipython3",
   "version": "3.10.9"
  },
  "orig_nbformat": 4
 },
 "nbformat": 4,
 "nbformat_minor": 2
}
